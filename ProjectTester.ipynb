{
 "cells": [
  {
   "cell_type": "markdown",
   "metadata": {},
   "source": [
    "# Datetime Demo"
   ]
  },
  {
   "cell_type": "code",
   "execution_count": 9,
   "metadata": {},
   "outputs": [
    {
     "name": "stdout",
     "output_type": "stream",
     "text": [
      "<class 'datetime.datetime'>\n",
      "2018-12-03 00:00:00\n",
      "2016-02-16 09:30:00.048748\n",
      "2017-12-31 00:00:00\n",
      "2018-12-04 00:01:00\n",
      "True\n",
      "2018-12-04 00:01\n"
     ]
    }
   ],
   "source": [
    "import datetime\n",
    "\n",
    "# assign\n",
    "d0 = datetime.datetime.combine(datetime.date(2018, 12, 3), datetime.time())\n",
    "print(type(d0))\n",
    "print(d0)\n",
    "\n",
    "# parsing\n",
    "s = '2016-Feb-16 09:30:00.048748'\n",
    "d2 = datetime.datetime.strptime(s, '%Y-%b-%d %H:%M:%S.%f')\n",
    "print(d2)\n",
    "s = '2017-12-31'\n",
    "d2 = datetime.datetime.strptime(s, '%Y-%m-%d')\n",
    "print(d2)\n",
    "\n",
    "# arithmetic\n",
    "one_day = datetime.timedelta(days=1)\n",
    "one_min = datetime.timedelta(minutes=1)\n",
    "d1 = d0 + one_day + one_min\n",
    "print(d1)\n",
    "\n",
    "# compare\n",
    "print(d1 > d0)\n",
    "\n",
    "# formating\n",
    "format = '%Y-%m-%d %H:%M'\n",
    "s = d1.strftime(format)\n",
    "print(s)"
   ]
  },
  {
   "cell_type": "markdown",
   "metadata": {},
   "source": [
    "# Test List"
   ]
  },
  {
   "cell_type": "code",
   "execution_count": 10,
   "metadata": {},
   "outputs": [
    {
     "name": "stdout",
     "output_type": "stream",
     "text": [
      "[]\n",
      "[]\n",
      "[1, 2, 3, 4]\n",
      "['A', 'B', 'C', 'D']\n"
     ]
    }
   ],
   "source": [
    "schedules = [1, 2, 3, 4]\n",
    "orders = ['A', 'B', 'C', 'D']\n",
    "\n",
    "indices = [i for i, s in sorted(enumerate(schedules), reverse=True) if s < 0]\n",
    "print(indices)\n",
    "[schedules.pop(i) for i in indices]\n",
    "print([orders.pop(i) for i in indices])\n",
    "print(schedules)\n",
    "print(orders)"
   ]
  },
  {
   "cell_type": "markdown",
   "metadata": {},
   "source": [
    "# Project Demo"
   ]
  },
  {
   "cell_type": "code",
   "execution_count": 1,
   "metadata": {
    "collapsed": true
   },
   "outputs": [],
   "source": [
    "import datetime\n",
    "\n",
    "from goldalgo.config import * \n",
    "from goldalgo.project import * "
   ]
  },
  {
   "cell_type": "code",
   "execution_count": 2,
   "metadata": {},
   "outputs": [
    {
     "name": "stdout",
     "output_type": "stream",
     "text": [
      "Portfolio_B\n",
      "TWAP\n",
      "Paper_DMA\n",
      "File_Trade_Logger\n",
      "timestamp= 2017-12-14 00:00:00\n",
      "timestamp= 2017-12-14 01:00:00\n",
      "timestamp= 2017-12-14 02:00:00\n",
      "timestamp= 2017-12-14 03:00:00\n",
      "timestamp= 2017-12-14 04:00:00\n",
      "timestamp= 2017-12-14 05:00:00\n",
      "timestamp= 2017-12-14 06:00:00\n",
      "timestamp= 2017-12-14 07:00:00\n",
      "timestamp= 2017-12-14 08:00:00\n",
      "timestamp= 2017-12-14 09:00:00\n",
      "timestamp= 2017-12-14 10:00:00\n",
      "timestamp= 2017-12-14 11:00:00\n",
      "timestamp= 2017-12-14 12:00:00\n",
      "timestamp= 2017-12-14 13:00:00\n",
      "timestamp= 2017-12-14 14:00:00\n",
      "timestamp= 2017-12-14 15:00:00\n",
      "timestamp= 2017-12-14 16:00:00\n",
      "timestamp= 2017-12-14 17:00:00\n",
      "timestamp= 2017-12-14 18:00:00\n",
      "timestamp= 2017-12-14 19:00:00\n",
      "timestamp= 2017-12-14 20:00:00\n",
      "timestamp= 2017-12-14 21:00:00\n",
      "timestamp= 2017-12-14 22:00:00\n",
      "timestamp= 2017-12-14 23:00:00\n",
      "timestamp= 2017-12-15 00:00:00\n",
      "completed.\n"
     ]
    }
   ],
   "source": [
    "config = Config('2017-12-14', '2017-12-15', 1, HOURS)\n",
    "config.set_strategy(STRATEGY_PORT_B)\n",
    "config.set_optimizer(OPTIMIZER_TWAP)\n",
    "config.set_dma(DMA_PAPER)\n",
    "config.set_logger(TRADE_LOGGER_FILE)\n",
    "config.set_data_provider(DATA_PROVIDER_FILE)\n",
    "\n",
    "print(config.get_strategy().get_name())\n",
    "print(config.get_optimizer().get_name())\n",
    "print(config.get_dma().get_name())\n",
    "print(config.get_logger().get_name())\n",
    "\n",
    "project = Project(config)\n",
    "project.run()"
   ]
  },
  {
   "cell_type": "markdown",
   "metadata": {},
   "source": [
    "# Test Scheduler"
   ]
  },
  {
   "cell_type": "code",
   "execution_count": 13,
   "metadata": {
    "collapsed": true
   },
   "outputs": [],
   "source": [
    "from goldalgo.execution.scheduler import *"
   ]
  },
  {
   "cell_type": "code",
   "execution_count": 14,
   "metadata": {},
   "outputs": [
    {
     "name": "stdout",
     "output_type": "stream",
     "text": [
      "['B', 'A']\n",
      "['C']\n",
      "['D']\n",
      "[]\n"
     ]
    }
   ],
   "source": [
    "scheduler = TradeScheduler()\n",
    "scheduler.push_order(1, 'A')\n",
    "scheduler.push_order(2, 'B')\n",
    "scheduler.push_order(3, 'C')\n",
    "scheduler.push_order(4, 'D')\n",
    "print(scheduler.pop_orders(2))\n",
    "print(scheduler.pop_orders(3))\n",
    "print(scheduler.pop_orders(4))\n",
    "print(scheduler.pop_orders(2))"
   ]
  },
  {
   "cell_type": "code",
   "execution_count": null,
   "metadata": {
    "collapsed": true
   },
   "outputs": [],
   "source": []
  }
 ],
 "metadata": {
  "kernelspec": {
   "display_name": "Python 3",
   "language": "python",
   "name": "python3"
  },
  "language_info": {
   "codemirror_mode": {
    "name": "ipython",
    "version": 3
   },
   "file_extension": ".py",
   "mimetype": "text/x-python",
   "name": "python",
   "nbconvert_exporter": "python",
   "pygments_lexer": "ipython3",
   "version": "3.6.1"
  }
 },
 "nbformat": 4,
 "nbformat_minor": 2
}
