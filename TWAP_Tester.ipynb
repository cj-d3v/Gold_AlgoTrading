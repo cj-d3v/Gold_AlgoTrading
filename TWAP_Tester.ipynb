{
 "cells": [
  {
   "cell_type": "code",
   "execution_count": 1,
   "metadata": {
    "collapsed": true
   },
   "outputs": [],
   "source": [
    "import datetime\n",
    "from goldalgo.execution.scheduler import *\n",
    "from goldalgo.orders import *\n",
    "from goldalgo.config import *"
   ]
  },
  {
   "cell_type": "code",
   "execution_count": 5,
   "metadata": {},
   "outputs": [],
   "source": [
    "fmt = '%Y-%b-%d %H:%M:%S'\n",
    "\n",
    "soid = 1234\n",
    "timestamp = datetime.datetime.strptime('2018-Feb-16 09:30:00', fmt)\n",
    "symbol = 'GCJ18'\n",
    "qty = 99\n",
    "endtime = datetime.datetime.strptime('2018-Feb-16 09:45:00', fmt)\n"
   ]
  },
  {
   "cell_type": "code",
   "execution_count": 6,
   "metadata": {},
   "outputs": [],
   "source": [
    "config = Config('2017-12-14', '2017-12-15', 1, MINUTES)\n",
    "config.set_strategy(STRATEGY_PORT_B)\n",
    "config.set_optimizer(OPTIMIZER_TWAP)\n",
    "config.set_dma(DMA_PAPER)\n",
    "config.set_logger(TRADE_LOGGER_FILE)\n",
    "\n",
    "so = StrategyOrder(soid, timestamp, symbol, ACTION_BUY, qty, endtime, must_be_filled=True)\n",
    "\n",
    "twap = config.get_optimizer()\n",
    "twap.execute_strategy_orders(config, timestamp, [so])\n"
   ]
  },
  {
   "cell_type": "code",
   "execution_count": 7,
   "metadata": {},
   "outputs": [
    {
     "name": "stdout",
     "output_type": "stream",
     "text": [
      "2018-02-16 09:31:00\n",
      "49\n",
      "2018-02-16 09:36:00\n",
      "50\n"
     ]
    }
   ],
   "source": [
    "one_min = datetime.timedelta(minutes=1)\n",
    "\n",
    "for i in range(15):\n",
    "    t1 = timestamp + i*one_min \n",
    "    co = twap.pop_child_orders(t1)\n",
    "    if len(co) > 0:\n",
    "        print(co[0].get_timestamp())\n",
    "        print(co[0].get_qty())\n",
    "        "
   ]
  },
  {
   "cell_type": "code",
   "execution_count": null,
   "metadata": {
    "collapsed": true
   },
   "outputs": [],
   "source": []
  }
 ],
 "metadata": {
  "kernelspec": {
   "display_name": "Python 3",
   "language": "python",
   "name": "python3"
  },
  "language_info": {
   "codemirror_mode": {
    "name": "ipython",
    "version": 3
   },
   "file_extension": ".py",
   "mimetype": "text/x-python",
   "name": "python",
   "nbconvert_exporter": "python",
   "pygments_lexer": "ipython3",
   "version": "3.6.1"
  }
 },
 "nbformat": 4,
 "nbformat_minor": 2
}
