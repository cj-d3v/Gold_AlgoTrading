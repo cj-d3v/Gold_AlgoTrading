{
 "cells": [
  {
   "cell_type": "code",
   "execution_count": 5,
   "metadata": {
    "collapsed": true
   },
   "outputs": [],
   "source": [
    "import pandas as pd\n",
    "import os"
   ]
  },
  {
   "cell_type": "code",
   "execution_count": 71,
   "metadata": {},
   "outputs": [
    {
     "data": {
      "text/plain": [
       "RangeIndex(start=0, stop=343, step=1)"
      ]
     },
     "execution_count": 71,
     "metadata": {},
     "output_type": "execute_result"
    }
   ],
   "source": [
    "df = pd.read_csv('risk_free_rate.csv')\n",
    "df.index"
   ]
  },
  {
   "cell_type": "code",
   "execution_count": 1,
   "metadata": {
    "collapsed": true
   },
   "outputs": [],
   "source": [
    "assetcode = \"GCZ2018\""
   ]
  },
  {
   "cell_type": "code",
   "execution_count": 9,
   "metadata": {},
   "outputs": [
    {
     "data": {
      "text/html": [
       "<div>\n",
       "<style>\n",
       "    .dataframe thead tr:only-child th {\n",
       "        text-align: right;\n",
       "    }\n",
       "\n",
       "    .dataframe thead th {\n",
       "        text-align: left;\n",
       "    }\n",
       "\n",
       "    .dataframe tbody tr th {\n",
       "        vertical-align: top;\n",
       "    }\n",
       "</style>\n",
       "<table border=\"1\" class=\"dataframe\">\n",
       "  <thead>\n",
       "    <tr style=\"text-align: right;\">\n",
       "      <th></th>\n",
       "      <th>Date</th>\n",
       "      <th>Open</th>\n",
       "      <th>High</th>\n",
       "      <th>Low</th>\n",
       "      <th>Close</th>\n",
       "      <th>Change</th>\n",
       "      <th>Volume</th>\n",
       "    </tr>\n",
       "  </thead>\n",
       "  <tbody>\n",
       "    <tr>\n",
       "      <th>0</th>\n",
       "      <td>2013-12-01</td>\n",
       "      <td>1337.42</td>\n",
       "      <td>1341.94</td>\n",
       "      <td>1331.06</td>\n",
       "      <td>1332.81</td>\n",
       "      <td>-4.61</td>\n",
       "      <td>20704</td>\n",
       "    </tr>\n",
       "    <tr>\n",
       "      <th>1</th>\n",
       "      <td>2013-12-02</td>\n",
       "      <td>1333.78</td>\n",
       "      <td>1336.87</td>\n",
       "      <td>1325.49</td>\n",
       "      <td>1326.47</td>\n",
       "      <td>-7.31</td>\n",
       "      <td>39092</td>\n",
       "    </tr>\n",
       "    <tr>\n",
       "      <th>2</th>\n",
       "      <td>2013-12-03</td>\n",
       "      <td>1337.13</td>\n",
       "      <td>1342.77</td>\n",
       "      <td>1334.11</td>\n",
       "      <td>1335.68</td>\n",
       "      <td>-1.45</td>\n",
       "      <td>841</td>\n",
       "    </tr>\n",
       "    <tr>\n",
       "      <th>3</th>\n",
       "      <td>2013-12-04</td>\n",
       "      <td>1338.73</td>\n",
       "      <td>1347.69</td>\n",
       "      <td>1335.29</td>\n",
       "      <td>1336.23</td>\n",
       "      <td>-2.50</td>\n",
       "      <td>20885</td>\n",
       "    </tr>\n",
       "    <tr>\n",
       "      <th>4</th>\n",
       "      <td>2013-12-05</td>\n",
       "      <td>1339.48</td>\n",
       "      <td>1345.11</td>\n",
       "      <td>1333.41</td>\n",
       "      <td>1333.81</td>\n",
       "      <td>-5.67</td>\n",
       "      <td>2299</td>\n",
       "    </tr>\n",
       "  </tbody>\n",
       "</table>\n",
       "</div>"
      ],
      "text/plain": [
       "         Date     Open     High      Low    Close  Change  Volume\n",
       "0  2013-12-01  1337.42  1341.94  1331.06  1332.81   -4.61   20704\n",
       "1  2013-12-02  1333.78  1336.87  1325.49  1326.47   -7.31   39092\n",
       "2  2013-12-03  1337.13  1342.77  1334.11  1335.68   -1.45     841\n",
       "3  2013-12-04  1338.73  1347.69  1335.29  1336.23   -2.50   20885\n",
       "4  2013-12-05  1339.48  1345.11  1333.41  1333.81   -5.67    2299"
      ]
     },
     "execution_count": 9,
     "metadata": {},
     "output_type": "execute_result"
    }
   ],
   "source": [
    "filepath = assetcode + '.csv'\n",
    "filepath\n",
    "dfx = pd.read_csv(filepath)\n",
    "dfx.head()"
   ]
  },
  {
   "cell_type": "code",
   "execution_count": 73,
   "metadata": {
    "collapsed": true
   },
   "outputs": [],
   "source": [
    "df = df.set_index('MonYear')"
   ]
  },
  {
   "cell_type": "code",
   "execution_count": 74,
   "metadata": {},
   "outputs": [
    {
     "data": {
      "text/plain": [
       "Index(['01/09/1989', '01/10/1989', '01/11/1989', '01/12/1989', '01/01/1990',\n",
       "       '01/02/1990', '01/03/1990', '01/04/1990', '01/05/1990', '01/06/1990',\n",
       "       ...\n",
       "       '01/06/2017', '01/07/2017', '01/08/2017', '01/09/2017', '01/10/2017',\n",
       "       '01/11/2017', '01/12/2017', '01/01/2018', '01/02/2018', '01/03/2018'],\n",
       "      dtype='object', name='MonYear', length=343)"
      ]
     },
     "execution_count": 74,
     "metadata": {},
     "output_type": "execute_result"
    }
   ],
   "source": [
    "df.index"
   ]
  },
  {
   "cell_type": "code",
   "execution_count": 77,
   "metadata": {},
   "outputs": [
    {
     "data": {
      "text/html": [
       "<div>\n",
       "<style>\n",
       "    .dataframe thead tr:only-child th {\n",
       "        text-align: right;\n",
       "    }\n",
       "\n",
       "    .dataframe thead th {\n",
       "        text-align: left;\n",
       "    }\n",
       "\n",
       "    .dataframe tbody tr th {\n",
       "        vertical-align: top;\n",
       "    }\n",
       "</style>\n",
       "<table border=\"1\" class=\"dataframe\">\n",
       "  <thead>\n",
       "    <tr style=\"text-align: right;\">\n",
       "      <th></th>\n",
       "      <th>OneMonth</th>\n",
       "      <th>ThreeMonth</th>\n",
       "      <th>SixMonth</th>\n",
       "      <th>TwelveMonth</th>\n",
       "    </tr>\n",
       "    <tr>\n",
       "      <th>MonYear</th>\n",
       "      <th></th>\n",
       "      <th></th>\n",
       "      <th></th>\n",
       "      <th></th>\n",
       "    </tr>\n",
       "  </thead>\n",
       "  <tbody>\n",
       "    <tr>\n",
       "      <th>01/09/1989</th>\n",
       "      <td>9.063</td>\n",
       "      <td>9.125</td>\n",
       "      <td>9.063</td>\n",
       "      <td>9.0</td>\n",
       "    </tr>\n",
       "  </tbody>\n",
       "</table>\n",
       "</div>"
      ],
      "text/plain": [
       "            OneMonth  ThreeMonth  SixMonth  TwelveMonth\n",
       "MonYear                                                \n",
       "01/09/1989     9.063       9.125     9.063          9.0"
      ]
     },
     "execution_count": 77,
     "metadata": {},
     "output_type": "execute_result"
    }
   ],
   "source": [
    "df['01/09/1989':'01/09/1989']\n"
   ]
  },
  {
   "cell_type": "code",
   "execution_count": 83,
   "metadata": {},
   "outputs": [
    {
     "data": {
      "text/plain": [
       "'GCJ2018.csv'"
      ]
     },
     "execution_count": 83,
     "metadata": {},
     "output_type": "execute_result"
    }
   ],
   "source": [
    "dirs = os.listdir()\n",
    "for "
   ]
  },
  {
   "cell_type": "code",
   "execution_count": null,
   "metadata": {
    "collapsed": true
   },
   "outputs": [],
   "source": []
  }
 ],
 "metadata": {
  "kernelspec": {
   "display_name": "Python 3",
   "language": "python",
   "name": "python3"
  },
  "language_info": {
   "codemirror_mode": {
    "name": "ipython",
    "version": 3
   },
   "file_extension": ".py",
   "mimetype": "text/x-python",
   "name": "python",
   "nbconvert_exporter": "python",
   "pygments_lexer": "ipython3",
   "version": "3.6.3"
  }
 },
 "nbformat": 4,
 "nbformat_minor": 2
}
